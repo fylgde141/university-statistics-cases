{
  "nbformat": 4,
  "nbformat_minor": 0,
  "metadata": {
    "colab": {
      "provenance": []
    },
    "kernelspec": {
      "name": "python3",
      "display_name": "Python 3"
    },
    "language_info": {
      "name": "python"
    }
  },
  "cells": [
    {
      "cell_type": "markdown",
      "source": [
        "#Кейс \"Золотая жила 2\""
      ],
      "metadata": {
        "id": "u-BIHH2EumgH"
      }
    },
    {
      "cell_type": "markdown",
      "source": [
        "##Подключение библиотек и загрузка данных"
      ],
      "metadata": {
        "id": "oySPpkNNvI-w"
      }
    },
    {
      "cell_type": "code",
      "source": [
        "import pandas as pd, numpy as np, scipy.stats as sps, matplotlib.pyplot as plt\n",
        "import statsmodels.stats.proportion as smp\n",
        "from tqdm import tqdm\n",
        "\n",
        "\n",
        "\n",
        "\n",
        "\n",
        "\n",
        "df = pd.read_csv('https://raw.githubusercontent.com/zalig/cu-datasets/main/golden_mine.csv')\n",
        "\n",
        "# Очистка данных\n",
        "df = df[(df['Profit']<1000000)&(df['Profit']>-1000000)]\n",
        "for col in df.columns:\n",
        "    try:\n",
        "        df[col] = df[col].str.lower()\n",
        "    except AttributeError:\n",
        "        pass"
      ],
      "metadata": {
        "id": "ucFG7_UEvHwK"
      },
      "execution_count": null,
      "outputs": []
    },
    {
      "cell_type": "markdown",
      "source": [
        "##Функции"
      ],
      "metadata": {
        "id": "KkA0bPTFvYSS"
      }
    },
    {
      "cell_type": "code",
      "source": [
        "def ztest_1sample(pop_mean, sample_mean, sample_std, sample_size, alternative='two-sided'):\n",
        "    statistic = (sample_mean - pop_mean)/(sample_std / sample_size**0.5)\n",
        "    if alternative == 'less':\n",
        "        pvalue = sps.norm.cdf(statistic)\n",
        "    if alternative == 'greater':\n",
        "        pvalue = 1 - sps.norm.cdf(statistic)\n",
        "    if alternative == 'two-sided':\n",
        "        pvalue = 2 * (1 - sps.norm.cdf(abs(statistic)))\n",
        "    return statistic, pvalue\n",
        "\n",
        "def ztest_1sample_data(pop_mean, sample, alternative='two-sided'):\n",
        "    return ztest_1sample(pop_mean, sample_mean=sample.mean(),\n",
        "                         sample_std=sample.std(), sample_size=len(sample),\n",
        "                         alternative=alternative)\n",
        "\n",
        "\n",
        "def ztest_2sample(sample1_mean, sample2_mean, sample1_std, sample2_std, sample1_size, sample2_size, alternative='two-sided'):\n",
        "    statistic = (sample1_mean - sample2_mean) / (sample1_std ** 2 / sample1_size + sample2_std ** 2 / sample2_size) ** 0.5\n",
        "    if alternative == 'less':\n",
        "        pvalue = sps.norm.cdf(statistic)\n",
        "    if alternative == 'greater':\n",
        "        pvalue = 1 - sps.norm.cdf(statistic)\n",
        "    if alternative == 'two-sided':\n",
        "        pvalue = 2 * (1 - sps.norm.cdf(abs(statistic)))\n",
        "    return statistic, pvalue\n",
        "\n",
        "def ztest_2sample_data(sample1, sample2, alternative='two-sided'):\n",
        "    return ztest_2sample(\n",
        "        sample1_mean=sample1.mean(), sample2_mean=sample2.mean(),\n",
        "        sample1_std=sample1.std(), sample2_std=sample2.std(),\n",
        "        sample1_size=len(sample1), sample2_size=len(sample2),\n",
        "        alternative=alternative\n",
        "    )\n",
        "\n",
        "\n",
        "def zpower_1sample_data_monte_carlo(mu0, mu, sigma, sample_size, n_monte_carlo, significance_level=0.05):\n",
        "    rejections = 0\n",
        "\n",
        "    for _ in range(n_monte_carlo):\n",
        "        sample = sps.norm.rvs(loc=mu, scale=sigma, size=sample_size)\n",
        "        test_stat, pvalue = ztest_1sample(pop_mean=mu0, sample_mean=sample.mean(),\n",
        "                                          sample_std=sample.std(), sample_size=len(sample), alternative='greater')\n",
        "        if pvalue < significance_level:\n",
        "            rejections += 1\n",
        "\n",
        "    return rejections / n_monte_carlo"
      ],
      "metadata": {
        "id": "3glvo4kCvarA"
      },
      "execution_count": null,
      "outputs": []
    },
    {
      "cell_type": "markdown",
      "source": [
        "##Слайды"
      ],
      "metadata": {
        "id": "wu50Rdb2fiZp"
      }
    },
    {
      "cell_type": "markdown",
      "source": [
        "###Синий уровень"
      ],
      "metadata": {
        "id": "ajUtBpkhuyFe"
      }
    },
    {
      "cell_type": "code",
      "execution_count": null,
      "metadata": {
        "colab": {
          "base_uri": "https://localhost:8080/"
        },
        "id": "EnNC-q8Vulew",
        "outputId": "a9d881b5-924c-4164-e18e-4a45e595cfd5"
      },
      "outputs": [
        {
          "output_type": "execute_result",
          "data": {
            "text/plain": [
              "(3.5021147923588165, 0.00023079035103212853)"
            ]
          },
          "metadata": {},
          "execution_count": 3
        }
      ],
      "source": [
        "#тест прибыльности привлечения клиента без таргетирования\n",
        "\n",
        "ztest_1sample_data(pop_mean=0, sample=df['Profit'] - 15_000, alternative='greater')\n",
        "\n"
      ]
    },
    {
      "cell_type": "code",
      "source": [
        "#тест различия средней прибыли в категориях мужчин 18-24 и женщины 18-24\n",
        "\n",
        "man_1824 = df[(df['Gender'] == 'male') & (df['AgeGroup']=='18-24')]['Profit']\n",
        "women_1824 = df[(df['Gender'] == 'female') & (df['AgeGroup']=='18-24')]['Profit']\n",
        "\n",
        "ztest_2sample_data(sample1=man_1824, sample2=women_1824, alternative='two-sided')"
      ],
      "metadata": {
        "colab": {
          "base_uri": "https://localhost:8080/"
        },
        "id": "N6Ga96VhvkB1",
        "outputId": "062a9e06-118d-4a13-d028-e51292eb04b3"
      },
      "execution_count": null,
      "outputs": [
        {
          "output_type": "execute_result",
          "data": {
            "text/plain": [
              "(-27.09280730417151, 0.0)"
            ]
          },
          "metadata": {},
          "execution_count": 4
        }
      ]
    },
    {
      "cell_type": "code",
      "source": [
        "print(man_1824.mean(), women_1824.mean())"
      ],
      "metadata": {
        "colab": {
          "base_uri": "https://localhost:8080/"
        },
        "id": "QTm1mj7X0z8Y",
        "outputId": "ad87f3d1-52f1-42dd-e380-59725e859ec0"
      },
      "execution_count": null,
      "outputs": [
        {
          "output_type": "stream",
          "name": "stdout",
          "text": [
            "13155.762435444414 26278.37389380531\n"
          ]
        }
      ]
    },
    {
      "cell_type": "code",
      "source": [
        "#тест значимости прибыли для мужчин 18-24\n",
        "\n",
        "ztest_1sample_data(pop_mean=0, sample=man_1824 - 15_000, alternative='greater')"
      ],
      "metadata": {
        "colab": {
          "base_uri": "https://localhost:8080/"
        },
        "id": "4aTzAIg_02lm",
        "outputId": "62b55f03-fc49-4cb5-a4ea-7b3c34957651"
      },
      "execution_count": null,
      "outputs": [
        {
          "output_type": "execute_result",
          "data": {
            "text/plain": [
              "(-4.065077065970156, 0.9999759917034207)"
            ]
          },
          "metadata": {},
          "execution_count": 7
        }
      ]
    },
    {
      "cell_type": "code",
      "source": [
        "#тест значимости прибыли для женщин 18-24\n",
        "\n",
        "ztest_1sample_data(pop_mean=0, sample=women_1824 - 15_000, alternative='greater')"
      ],
      "metadata": {
        "colab": {
          "base_uri": "https://localhost:8080/"
        },
        "id": "InweUNsZ1HBP",
        "outputId": "5d8f2fe3-8219-49e4-c8cf-7df80db6c6d2"
      },
      "execution_count": null,
      "outputs": [
        {
          "output_type": "execute_result",
          "data": {
            "text/plain": [
              "(66.48342590449387, 0.0)"
            ]
          },
          "metadata": {},
          "execution_count": 8
        }
      ]
    },
    {
      "cell_type": "code",
      "source": [
        "#построение графиков для синих слайдов\n",
        "table_meanprof = df[df['AgeGroup'] == '18-24'].groupby([\"Gender\",\"AgeGroup\"]).agg({'Profit':'mean'})\n",
        "\n",
        "table_meanprof.plot(kind='bar',xlabel='Пол',ylabel='Средний доход',legend=False).set_xticklabels(['Женщины', 'Мужчины'], rotation=0)\n",
        "\n",
        "\n",
        "plt.axhline(y=15000, color='r', linestyle='--', label='Стоимость привлечения клиентов')\n",
        "plt.title('Средняя прибыль от клиентов 18-24 лет')\n",
        "plt.show()"
      ],
      "metadata": {
        "colab": {
          "base_uri": "https://localhost:8080/",
          "height": 472
        },
        "id": "iTgiWkcLz5qq",
        "outputId": "dab087a1-75e5-4d15-dccc-f5647c6eb264"
      },
      "execution_count": 26,
      "outputs": [
        {
          "output_type": "display_data",
          "data": {
            "text/plain": [
              "<Figure size 640x480 with 1 Axes>"
            ],
            "image/png": "[encoded data removed]"
          },
          "metadata": {}
        }
      ]
    },
    {
      "cell_type": "markdown",
      "source": [
        "###Красный уровень"
      ],
      "metadata": {
        "id": "hRZl6TTJ1V5c"
      }
    },
    {
      "cell_type": "code",
      "source": [
        "#корректировка уровня значимости\n",
        "0.05/3"
      ],
      "metadata": {
        "id": "uc4CwWYPc3P1"
      },
      "execution_count": null,
      "outputs": []
    },
    {
      "cell_type": "code",
      "source": [
        "women_18_21 = df[(df['Gender'] == 'female') & (df['Age']<=21)]['Profit']\n",
        "women_22_24 = df[(df['Gender'] == 'female') & (df['Age']>=22) & ( df['Age']<=24)]['Profit']\n",
        "\n",
        "print('Тест прибыльности среди женщин 18-21', ztest_1sample_data(pop_mean=0, sample=women_18_21 - 15000, alternative='greater'))\n",
        "print('Тест прибыльности среди женщин 22-24', ztest_1sample_data(pop_mean=0, sample=women_22_24 - 15000, alternative='greater'))\n",
        "print('Тест значимости разницы между этими категориями', ztest_1sample_data(pop_mean=0, sample=women_22_24 - 15000, alternative='greater'))"
      ],
      "metadata": {
        "colab": {
          "base_uri": "https://localhost:8080/"
        },
        "id": "6MbJOl2F1YyC",
        "outputId": "87ea1761-1f06-47fd-812c-d205137ca286"
      },
      "execution_count": 23,
      "outputs": [
        {
          "output_type": "stream",
          "name": "stdout",
          "text": [
            "Тест прибыльности среди женщин 18-21 (59.570845699717985, 0.0)\n",
            "Тест прибыльности среди женщин 22-24 (32.5007531203702, 0.0)\n",
            "Тест значимости разницы между этими категориями (32.5007531203702, 0.0)\n"
          ]
        }
      ]
    },
    {
      "cell_type": "code",
      "source": [
        "print(df[(df['Gender'] == 'female') & (df['Age']>=22)]['Profit'].mean())"
      ],
      "metadata": {
        "colab": {
          "base_uri": "https://localhost:8080/"
        },
        "id": "Fgu1UMHIhetM",
        "outputId": "4ea0af63-c16a-4f28-f906-9baa3814339b"
      },
      "execution_count": null,
      "outputs": [
        {
          "output_type": "stream",
          "name": "stdout",
          "text": [
            "12392.662219526987\n"
          ]
        }
      ]
    },
    {
      "cell_type": "code",
      "source": [
        "def categorize_age(age):\n",
        "  if 18<=age<=21:\n",
        "    return '18-21'\n",
        "  elif 22<=age<=24:\n",
        "    return '22-24'\n",
        "  elif 25<=age<=40:\n",
        "    return '25-39'\n",
        "  elif 40<=age:\n",
        "    return '40+'\n",
        "\n",
        "\n",
        "\n",
        "df_1 = df[df['Gender'] == 'female']\n",
        "\n",
        "df_1['AgeGroup'] = df_1['Age'].apply(lambda x: categorize_age(x))\n",
        "\n",
        "\n",
        "table_meanprof = df_1[(df_1['AgeGroup'] == '18-21')|(df_1['AgeGroup'] == '22-24')].groupby([\"AgeGroup\"]).agg({'Profit':'mean'})\n",
        "\n",
        "table_meanprof.plot(kind='bar',xlabel='Возраст',ylabel='Средний доход',legend=False)\n",
        "\n",
        "plt.xticks(rotation=0)\n",
        "plt.axhline(y=15000, color='r', linestyle='--', label='Стоимость привлечения клиентов')\n",
        "plt.title('Средняя прибыль от клиентов 18-24 лет')\n",
        "plt.show()\n",
        "\n",
        "table_meanprof"
      ],
      "metadata": {
        "colab": {
          "base_uri": "https://localhost:8080/",
          "height": 702
        },
        "id": "wCHHi4nk18Hu",
        "outputId": "ea04200e-4b4c-456d-ac1e-7b0e9a22cd10"
      },
      "execution_count": 51,
      "outputs": [
        {
          "output_type": "stream",
          "name": "stderr",
          "text": [
            "<ipython-input-51-07e79c6a179c>:15: SettingWithCopyWarning: \n",
            "A value is trying to be set on a copy of a slice from a DataFrame.\n",
            "Try using .loc[row_indexer,col_indexer] = value instead\n",
            "\n",
            "See the caveats in the documentation: https://pandas.pydata.org/pandas-docs/stable/user_guide/indexing.html#returning-a-view-versus-a-copy\n",
            "  df_1['AgeGroup'] = df_1['Age'].apply(lambda x: categorize_age(x))\n"
          ]
        },
        {
          "output_type": "display_data",
          "data": {
            "text/plain": [
              "<Figure size 640x480 with 1 Axes>"
            ],
            "image/png": "[encoded data removed]"
          },
          "metadata": {}
        },
        {
          "output_type": "execute_result",
          "data": {
            "text/plain": [
              "                Profit\n",
              "AgeGroup              \n",
              "18-21     25716.510439\n",
              "22-24     29891.232877"
            ],
            "text/html": [
              "\n",
              "  <div id=\"df-40a2d77c-5b9d-4743-a030-c8029e900a9c\" class=\"colab-df-container\">\n",
              "    <div>\n",
              "<style scoped>\n",
              "    .dataframe tbody tr th:only-of-type {\n",
              "        vertical-align: middle;\n",
              "    }\n",
              "\n",
              "    .dataframe tbody tr th {\n",
              "        vertical-align: top;\n",
              "    }\n",
              "\n",
              "    .dataframe thead th {\n",
              "        text-align: right;\n",
              "    }\n",
              "</style>\n",
              "<table border=\"1\" class=\"dataframe\">\n",
              "  <thead>\n",
              "    <tr style=\"text-align: right;\">\n",
              "      <th></th>\n",
              "      <th>Profit</th>\n",
              "    </tr>\n",
              "    <tr>\n",
              "      <th>AgeGroup</th>\n",
              "      <th></th>\n",
              "    </tr>\n",
              "  </thead>\n",
              "  <tbody>\n",
              "    <tr>\n",
              "      <th>18-21</th>\n",
              "      <td>25716.510439</td>\n",
              "    </tr>\n",
              "    <tr>\n",
              "      <th>22-24</th>\n",
              "      <td>29891.232877</td>\n",
              "    </tr>\n",
              "  </tbody>\n",
              "</table>\n",
              "</div>\n",
              "    <div class=\"colab-df-buttons\">\n",
              "\n",
              "  <div class=\"colab-df-container\">\n",
              "    <button class=\"colab-df-convert\" onclick=\"convertToInteractive('df-40a2d77c-5b9d-4743-a030-c8029e900a9c')\"\n",
              "            title=\"Convert this dataframe to an interactive table.\"\n",
              "            style=\"display:none;\">\n",
              "\n",
              "  <svg xmlns=\"http://www.w3.org/2000/svg\" height=\"24px\" viewBox=\"0 -960 960 960\">\n",
              "    <path d=\"M120-120v-720h720v720H120Zm60-500h600v-160H180v160Zm220 220h160v-160H400v160Zm0 220h160v-160H400v160ZM180-400h160v-160H180v160Zm440 0h160v-160H620v160ZM180-180h160v-160H180v160Zm440 0h160v-160H620v160Z\"/>\n",
              "  </svg>\n",
              "    </button>\n",
              "\n",
              "  <style>\n",
              "    .colab-df-container {\n",
              "      display:flex;\n",
              "      gap: 12px;\n",
              "    }\n",
              "\n",
              "    .colab-df-convert {\n",
              "      background-color: #E8F0FE;\n",
              "      border: none;\n",
              "      border-radius: 50%;\n",
              "      cursor: pointer;\n",
              "      display: none;\n",
              "      fill: #1967D2;\n",
              "      height: 32px;\n",
              "      padding: 0 0 0 0;\n",
              "      width: 32px;\n",
              "    }\n",
              "\n",
              "    .colab-df-convert:hover {\n",
              "      background-color: #E2EBFA;\n",
              "      box-shadow: 0px 1px 2px rgba(60, 64, 67, 0.3), 0px 1px 3px 1px rgba(60, 64, 67, 0.15);\n",
              "      fill: #174EA6;\n",
              "    }\n",
              "\n",
              "    .colab-df-buttons div {\n",
              "      margin-bottom: 4px;\n",
              "    }\n",
              "\n",
              "    [theme=dark] .colab-df-convert {\n",
              "      background-color: #3B4455;\n",
              "      fill: #D2E3FC;\n",
              "    }\n",
              "\n",
              "    [theme=dark] .colab-df-convert:hover {\n",
              "      background-color: #434B5C;\n",
              "      box-shadow: 0px 1px 3px 1px rgba(0, 0, 0, 0.15);\n",
              "      filter: drop-shadow(0px 1px 2px rgba(0, 0, 0, 0.3));\n",
              "      fill: #FFFFFF;\n",
              "    }\n",
              "  </style>\n",
              "\n",
              "    <script>\n",
              "      const buttonEl =\n",
              "        document.querySelector('#df-40a2d77c-5b9d-4743-a030-c8029e900a9c button.colab-df-convert');\n",
              "      buttonEl.style.display =\n",
              "        google.colab.kernel.accessAllowed ? 'block' : 'none';\n",
              "\n",
              "      async function convertToInteractive(key) {\n",
              "        const element = document.querySelector('#df-40a2d77c-5b9d-4743-a030-c8029e900a9c');\n",
              "        const dataTable =\n",
              "          await google.colab.kernel.invokeFunction('convertToInteractive',\n",
              "                                                    [key], {});\n",
              "        if (!dataTable) return;\n",
              "\n",
              "        const docLinkHtml = 'Like what you see? Visit the ' +\n",
              "          '<a target=\"_blank\" href=https://colab.research.google.com/notebooks/data_table.ipynb>data table notebook</a>'\n",
              "          + ' to learn more about interactive tables.';\n",
              "        element.innerHTML = '';\n",
              "        dataTable['output_type'] = 'display_data';\n",
              "        await google.colab.output.renderOutput(dataTable, element);\n",
              "        const docLink = document.createElement('div');\n",
              "        docLink.innerHTML = docLinkHtml;\n",
              "        element.appendChild(docLink);\n",
              "      }\n",
              "    </script>\n",
              "  </div>\n",
              "\n",
              "\n",
              "<div id=\"df-69757c47-b1bf-4740-b013-39141e1c934f\">\n",
              "  <button class=\"colab-df-quickchart\" onclick=\"quickchart('df-69757c47-b1bf-4740-b013-39141e1c934f')\"\n",
              "            title=\"Suggest charts\"\n",
              "            style=\"display:none;\">\n",
              "\n",
              "<svg xmlns=\"http://www.w3.org/2000/svg\" height=\"24px\"viewBox=\"0 0 24 24\"\n",
              "     width=\"24px\">\n",
              "    <g>\n",
              "        <path d=\"M19 3H5c-1.1 0-2 .9-2 2v14c0 1.1.9 2 2 2h14c1.1 0 2-.9 2-2V5c0-1.1-.9-2-2-2zM9 17H7v-7h2v7zm4 0h-2V7h2v10zm4 0h-2v-4h2v4z\"/>\n",
              "    </g>\n",
              "</svg>\n",
              "  </button>\n",
              "\n",
              "<style>\n",
              "  .colab-df-quickchart {\n",
              "      --bg-color: #E8F0FE;\n",
              "      --fill-color: #1967D2;\n",
              "      --hover-bg-color: #E2EBFA;\n",
              "      --hover-fill-color: #174EA6;\n",
              "      --disabled-fill-color: #AAA;\n",
              "      --disabled-bg-color: #DDD;\n",
              "  }\n",
              "\n",
              "  [theme=dark] .colab-df-quickchart {\n",
              "      --bg-color: #3B4455;\n",
              "      --fill-color: #D2E3FC;\n",
              "      --hover-bg-color: #434B5C;\n",
              "      --hover-fill-color: #FFFFFF;\n",
              "      --disabled-bg-color: #3B4455;\n",
              "      --disabled-fill-color: #666;\n",
              "  }\n",
              "\n",
              "  .colab-df-quickchart {\n",
              "    background-color: var(--bg-color);\n",
              "    border: none;\n",
              "    border-radius: 50%;\n",
              "    cursor: pointer;\n",
              "    display: none;\n",
              "    fill: var(--fill-color);\n",
              "    height: 32px;\n",
              "    padding: 0;\n",
              "    width: 32px;\n",
              "  }\n",
              "\n",
              "  .colab-df-quickchart:hover {\n",
              "    background-color: var(--hover-bg-color);\n",
              "    box-shadow: 0 1px 2px rgba(60, 64, 67, 0.3), 0 1px 3px 1px rgba(60, 64, 67, 0.15);\n",
              "    fill: var(--button-hover-fill-color);\n",
              "  }\n",
              "\n",
              "  .colab-df-quickchart-complete:disabled,\n",
              "  .colab-df-quickchart-complete:disabled:hover {\n",
              "    background-color: var(--disabled-bg-color);\n",
              "    fill: var(--disabled-fill-color);\n",
              "    box-shadow: none;\n",
              "  }\n",
              "\n",
              "  .colab-df-spinner {\n",
              "    border: 2px solid var(--fill-color);\n",
              "    border-color: transparent;\n",
              "    border-bottom-color: var(--fill-color);\n",
              "    animation:\n",
              "      spin 1s steps(1) infinite;\n",
              "  }\n",
              "\n",
              "  @keyframes spin {\n",
              "    0% {\n",
              "      border-color: transparent;\n",
              "      border-bottom-color: var(--fill-color);\n",
              "      border-left-color: var(--fill-color);\n",
              "    }\n",
              "    20% {\n",
              "      border-color: transparent;\n",
              "      border-left-color: var(--fill-color);\n",
              "      border-top-color: var(--fill-color);\n",
              "    }\n",
              "    30% {\n",
              "      border-color: transparent;\n",
              "      border-left-color: var(--fill-color);\n",
              "      border-top-color: var(--fill-color);\n",
              "      border-right-color: var(--fill-color);\n",
              "    }\n",
              "    40% {\n",
              "      border-color: transparent;\n",
              "      border-right-color: var(--fill-color);\n",
              "      border-top-color: var(--fill-color);\n",
              "    }\n",
              "    60% {\n",
              "      border-color: transparent;\n",
              "      border-right-color: var(--fill-color);\n",
              "    }\n",
              "    80% {\n",
              "      border-color: transparent;\n",
              "      border-right-color: var(--fill-color);\n",
              "      border-bottom-color: var(--fill-color);\n",
              "    }\n",
              "    90% {\n",
              "      border-color: transparent;\n",
              "      border-bottom-color: var(--fill-color);\n",
              "    }\n",
              "  }\n",
              "</style>\n",
              "\n",
              "  <script>\n",
              "    async function quickchart(key) {\n",
              "      const quickchartButtonEl =\n",
              "        document.querySelector('#' + key + ' button');\n",
              "      quickchartButtonEl.disabled = true;  // To prevent multiple clicks.\n",
              "      quickchartButtonEl.classList.add('colab-df-spinner');\n",
              "      try {\n",
              "        const charts = await google.colab.kernel.invokeFunction(\n",
              "            'suggestCharts', [key], {});\n",
              "      } catch (error) {\n",
              "        console.error('Error during call to suggestCharts:', error);\n",
              "      }\n",
              "      quickchartButtonEl.classList.remove('colab-df-spinner');\n",
              "      quickchartButtonEl.classList.add('colab-df-quickchart-complete');\n",
              "    }\n",
              "    (() => {\n",
              "      let quickchartButtonEl =\n",
              "        document.querySelector('#df-69757c47-b1bf-4740-b013-39141e1c934f button');\n",
              "      quickchartButtonEl.style.display =\n",
              "        google.colab.kernel.accessAllowed ? 'block' : 'none';\n",
              "    })();\n",
              "  </script>\n",
              "</div>\n",
              "    </div>\n",
              "  </div>\n"
            ],
            "application/vnd.google.colaboratory.intrinsic+json": {
              "type": "dataframe",
              "variable_name": "table_meanprof",
              "summary": "{\n  \"name\": \"table_meanprof\",\n  \"rows\": 2,\n  \"fields\": [\n    {\n      \"column\": \"AgeGroup\",\n      \"properties\": {\n        \"dtype\": \"string\",\n        \"num_unique_values\": 2,\n        \"samples\": [\n          \"22-24\",\n          \"18-21\"\n        ],\n        \"semantic_type\": \"\",\n        \"description\": \"\"\n      }\n    },\n    {\n      \"column\": \"Profit\",\n      \"properties\": {\n        \"dtype\": \"number\",\n        \"std\": 2951.974545378349,\n        \"min\": 25716.510438858117,\n        \"max\": 29891.23287671233,\n        \"num_unique_values\": 2,\n        \"samples\": [\n          29891.23287671233,\n          25716.510438858117\n        ],\n        \"semantic_type\": \"\",\n        \"description\": \"\"\n      }\n    }\n  ]\n}"
            }
          },
          "metadata": {},
          "execution_count": 51
        }
      ]
    },
    {
      "cell_type": "markdown",
      "source": [
        "###Черный уровень"
      ],
      "metadata": {
        "id": "MRnWvcZXdxGV"
      }
    },
    {
      "cell_type": "code",
      "source": [
        "#золотая жила из кейса 1\n",
        "golden_mine = df[(df['Gender'] == 'male') & (df['Age'].isin([21, 22, 23, 24]))]['Profit']\n",
        "\n",
        "women_18_24 = df[(df['Gender'] == 'female') & (df['AgeGroup']=='18-24')]['Profit']\n",
        "\n",
        "ztest_2sample_data(sample1=golden_mine, sample2=women_18_24, alternative='two-sided')"
      ],
      "metadata": {
        "colab": {
          "base_uri": "https://localhost:8080/"
        },
        "id": "EeSWkAM6d0m2",
        "outputId": "5ef60860-de96-4467-9213-697c285e966b"
      },
      "execution_count": null,
      "outputs": [
        {
          "output_type": "execute_result",
          "data": {
            "text/plain": [
              "(104.86410083908079, 0.0)"
            ]
          },
          "metadata": {},
          "execution_count": 6
        }
      ]
    },
    {
      "cell_type": "code",
      "source": [
        "man_18 =  df[(df['Gender'] == 'male') & (df['Age']==18)]['Profit']\n",
        "\n",
        "for effect in np.arange(0, 1000, 5):\n",
        "  if zpower_1sample_data_monte_carlo(mu0=15000, mu=15000 + effect, sigma=man_18.std(), sample_size=len(man_18), n_monte_carlo=1000, significance_level=0.05) >= 0.8:\n",
        "    print('Минимально детектируемый эффект:', effect)\n",
        "    break"
      ],
      "metadata": {
        "colab": {
          "base_uri": "https://localhost:8080/"
        },
        "id": "MLaVll-sfKel",
        "outputId": "57462cbd-a3f8-42c8-a36d-b0415a8bb7d8"
      },
      "execution_count": null,
      "outputs": [
        {
          "output_type": "stream",
          "name": "stdout",
          "text": [
            "Минимально детектируемый эффект: 145\n"
          ]
        }
      ]
    },
    {
      "cell_type": "code",
      "source": [
        "#корректировка уровня значимости\n",
        "0.05/7"
      ],
      "metadata": {
        "colab": {
          "base_uri": "https://localhost:8080/"
        },
        "id": "z7mm1vS1fUF5",
        "outputId": "e82c97d8-40f9-4272-c1a5-c3cb0855f382"
      },
      "execution_count": 24,
      "outputs": [
        {
          "output_type": "execute_result",
          "data": {
            "text/plain": [
              "0.0071428571428571435"
            ]
          },
          "metadata": {},
          "execution_count": 24
        }
      ]
    },
    {
      "cell_type": "code",
      "source": [
        "man_18 =  df[(df['Gender'] == 'male') & (df['Age']==18)]['Profit']\n",
        "man_19 =  df[(df['Gender'] == 'male') & (df['Age']==19)]['Profit']\n",
        "man_20 =  df[(df['Gender'] == 'male') & (df['Age']==20)]['Profit']\n",
        "man_21 =  df[(df['Gender'] == 'male') & (df['Age']==21)]['Profit']\n",
        "man_22 =  df[(df['Gender'] == 'male') & (df['Age']==22)]['Profit']\n",
        "man_23 =  df[(df['Gender'] == 'male') & (df['Age']==23)]['Profit']\n",
        "man_24 =  df[(df['Gender'] == 'male') & (df['Age']==24)]['Profit']\n",
        "\n",
        "\n",
        "for effect in np.arange(0, 1000, 5):\n",
        "    if zpower_1sample_data_monte_carlo(mu0=15000, mu=15000 + effect, sigma=man_18.std(), sample_size=len(man_18), n_monte_carlo=1000, significance_level=0.05/7) >= 0.8 \\\n",
        "    or zpower_1sample_data_monte_carlo(mu0=15000, mu=15000 + effect, sigma=man_19.std(), sample_size=len(man_19), n_monte_carlo=1000, significance_level=0.05/7) >= 0.8 \\\n",
        "    or zpower_1sample_data_monte_carlo(mu0=15000, mu=15000 + effect, sigma=man_20.std(), sample_size=len(man_20), n_monte_carlo=1000, significance_level=0.05/7) >= 0.8 \\\n",
        "    or zpower_1sample_data_monte_carlo(mu0=15000, mu=15000 + effect, sigma=man_21.std(), sample_size=len(man_21), n_monte_carlo=1000, significance_level=0.05/7) >= 0.8 \\\n",
        "    or zpower_1sample_data_monte_carlo(mu0=15000, mu=15000 + effect, sigma=man_22.std(), sample_size=len(man_22), n_monte_carlo=1000, significance_level=0.05/7) >= 0.8 \\\n",
        "    or zpower_1sample_data_monte_carlo(mu0=15000, mu=15000 + effect, sigma=man_23.std(), sample_size=len(man_23), n_monte_carlo=1000, significance_level=0.05/7) >= 0.8 \\\n",
        "    or zpower_1sample_data_monte_carlo(mu0=15000, mu=15000 + effect, sigma=man_24.std(), sample_size=len(man_24), n_monte_carlo=1000, significance_level=0.05/7) >= 0.8 :\n",
        "        print('Минимально детектируемый эффект:', effect)\n",
        "        break"
      ],
      "metadata": {
        "colab": {
          "base_uri": "https://localhost:8080/"
        },
        "id": "fIkupXhvfPVH",
        "outputId": "3ee7b033-5fdf-4882-c34c-ee9cf4fc4ce9"
      },
      "execution_count": 25,
      "outputs": [
        {
          "output_type": "stream",
          "name": "stdout",
          "text": [
            "Минимально детектируемый эффект: 195\n"
          ]
        }
      ]
    },
    {
      "cell_type": "code",
      "source": [
        "def categorize_age(age):\n",
        "  if 18<=age<=21:\n",
        "    return '18-21'\n",
        "  elif 22<=age<=24:\n",
        "    return '22-24'\n",
        "  elif 25<=age<=40:\n",
        "    return '25-39'\n",
        "  elif 40<=age:\n",
        "    return '40+'\n",
        "\n",
        "\n",
        "\n",
        "df_2 = df[(df['AgeGroup'] == '18-24')]\n",
        "\n",
        "df_2 = df_2[(df_2['Gender'] == 'female')|((df_2['Gender'] == 'male')&(df_2['Age'].isin([21,22,23,24])))]\n",
        "\n",
        "\n",
        "table_meanprof = df_2.groupby([\"AgeGroup\", 'Gender']).agg({'Profit':'mean'})\n",
        "\n",
        "table_meanprof.plot(kind='bar',xlabel='Возраст',ylabel='Средний доход',legend=False).set_xticklabels(['Женщины', 'Мужчины'], rotation=0)\n",
        "plt.axhline(y=15000, color='r', linestyle='--', label='Стоимость привлечения клиентов')\n",
        "plt.show()"
      ],
      "metadata": {
        "colab": {
          "base_uri": "https://localhost:8080/",
          "height": 449
        },
        "id": "4qcElK2Pi11f",
        "outputId": "87eb595b-5343-4e9e-e8e5-697d065d6804"
      },
      "execution_count": 52,
      "outputs": [
        {
          "output_type": "display_data",
          "data": {
            "text/plain": [
              "<Figure size 640x480 with 1 Axes>"
            ],
            "image/png": "[encoded data removed]"
          },
          "metadata": {}
        }
      ]
    },
    {
      "cell_type": "code",
      "source": [],
      "metadata": {
        "id": "pZ5uY0fb9EFU"
      },
      "execution_count": null,
      "outputs": []
    }
  ]
}