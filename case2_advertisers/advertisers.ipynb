{
  "nbformat": 4,
  "nbformat_minor": 0,
  "metadata": {
    "colab": {
      "provenance": []
    },
    "kernelspec": {
      "name": "python3",
      "display_name": "Python 3"
    },
    "language_info": {
      "name": "python"
    }
  },
  "cells": [
    {
      "cell_type": "markdown",
      "source": [
        "#\"Рекламщики\" кейс\n"
      ],
      "metadata": {
        "id": "YEYK44z2oQfN"
      }
    },
    {
      "cell_type": "markdown",
      "source": [
        "## Синий уровень"
      ],
      "metadata": {
        "id": "wI5vxDXhoWSr"
      }
    },
    {
      "cell_type": "code",
      "source": [],
      "metadata": {
        "id": "qNfq0j9nJ96N"
      },
      "execution_count": null,
      "outputs": []
    },
    {
      "cell_type": "code",
      "execution_count": 1,
      "metadata": {
        "colab": {
          "base_uri": "https://localhost:8080/"
        },
        "id": "JOQsbUzX8ryh",
        "outputId": "5b0053dd-3ea1-40e9-fb09-d71dfe5dd71e"
      },
      "outputs": [
        {
          "output_type": "stream",
          "name": "stdout",
          "text": [
            "300 500 20000\n"
          ]
        }
      ],
      "source": [
        "import pandas as pd\n",
        "import matplotlib.pyplot as plt\n",
        "\n",
        "df=pd.read_csv('https://raw.githubusercontent.com/zalig/cu-datasets/main/advertisment.csv')\n",
        "\n",
        "#Создаем датасеты групп рекламных компаний\n",
        "group_A = df[df['A']==1]\n",
        "group_B = df[df['B']==1]\n",
        "\n",
        "#Считаем количество\n",
        "count_A=len(group_A['A'])\n",
        "count_B=len(group_B['B'])\n",
        "count_all = len(df['Age'])\n",
        "\n",
        "#Вывод\n",
        "print(count_A,count_B,count_all)\n"
      ]
    },
    {
      "cell_type": "code",
      "source": [
        "#Создаем датасет не учавствовавших в рекламных компаниях\n",
        "not_participant = df[(df['A'] != 1) & (df['B']!=1)]\n",
        "\n",
        "#Считаем доли(конверсии)\n",
        "natural_conversio = not_participant['Purchased'].sum()/len(not_participant['Age'])\n",
        "all_conversio = df['Purchased'].sum()/len(df['Age'])\n",
        "A_conversio = group_A['Purchased'].sum()/len(group_A['Age'])\n",
        "B_conversio = group_B['Purchased'].sum()/len(group_B['Age'])\n",
        "\n",
        "#Вывод\n",
        "\n",
        "print('Количество среди всех: ',df['Purchased'].sum())\n",
        "print('Количество среди невидивших рекламу: ',not_participant['Purchased'].sum())\n",
        "print('Количество в группе А: ',group_A['Purchased'].sum())\n",
        "print('Количество в группе В: ',group_B['Purchased'].sum())\n",
        "\n",
        "\n",
        "\n",
        "print(f'Конверсия в контрольной группе: {all_conversio}')\n",
        "print(f'Естественная конверсия: {natural_conversio}')\n",
        "print(f'Конверсия в группе А: {A_conversio}')\n",
        "print(f'Конверсия в группе В: {B_conversio}')"
      ],
      "metadata": {
        "colab": {
          "base_uri": "https://localhost:8080/"
        },
        "id": "M67eKuB4qu1N",
        "outputId": "60b88182-538f-4392-9491-e8a317aba68d"
      },
      "execution_count": 52,
      "outputs": [
        {
          "output_type": "stream",
          "name": "stdout",
          "text": [
            "Количество среди всех:  1327.0\n",
            "Количество среди невидивших рекламу:  1228.0\n",
            "Количество в группе А:  33.0\n",
            "Количество в группе В:  66.0\n",
            "Конверсия в контрольной группе: 0.06635\n",
            "Естественная конверсия: 0.06395833333333334\n",
            "Конверсия в группе А: 0.11\n",
            "Конверсия в группе В: 0.132\n"
          ]
        }
      ]
    },
    {
      "cell_type": "code",
      "source": [
        "print(f'Прогноз доп покупок Сценарий №1(A): {(A_conversio - natural_conversio)*19200}')\n",
        "print(f'Прогноз доп покупок Сценарий №2(B): {(B_conversio - natural_conversio)*19200}')"
      ],
      "metadata": {
        "colab": {
          "base_uri": "https://localhost:8080/"
        },
        "id": "YY3Q_aw67Bme",
        "outputId": "ff7674ae-63b9-4453-d7f1-a0a7b92f9c92"
      },
      "execution_count": 53,
      "outputs": [
        {
          "output_type": "stream",
          "name": "stdout",
          "text": [
            "Прогноз доп покупок Сценарий №1(A): 883.9999999999999\n",
            "Прогноз доп покупок Сценарий №2(B): 1306.4\n"
          ]
        }
      ]
    },
    {
      "cell_type": "markdown",
      "source": [
        "##Красный уровень"
      ],
      "metadata": {
        "id": "Kv_MwiPH8Riw"
      }
    },
    {
      "cell_type": "code",
      "source": [
        "\n",
        "print('РК А')\n",
        "print('Доход: ', (A_conversio - natural_conversio)*19200*3000)\n",
        "print('Расход: ', (A_conversio - natural_conversio)*19200*80)\n",
        "print('Прибыль: ', (A_conversio - natural_conversio)*19200*2920)\n",
        "\n",
        "print('РК В')\n",
        "print('Доход: ', (B_conversio - natural_conversio)*19200*3000)\n",
        "print('Расход: ', (B_conversio - natural_conversio)*19200*80)\n",
        "print('Прибыль: ', (B_conversio - natural_conversio)*19200*2920)"
      ],
      "metadata": {
        "colab": {
          "base_uri": "https://localhost:8080/"
        },
        "id": "Q0vX1rwRrZmI",
        "outputId": "6037c4d9-e9bc-4df4-94a2-af994acfcb07"
      },
      "execution_count": 55,
      "outputs": [
        {
          "output_type": "stream",
          "name": "stdout",
          "text": [
            "РК А\n",
            "Доход:  2651999.9999999995\n",
            "Расход:  70719.99999999999\n",
            "Прибыль:  2581279.9999999995\n",
            "РК В\n",
            "Доход:  3919200.0000000005\n",
            "Расход:  104512.0\n",
            "Прибыль:  3814688.0000000005\n"
          ]
        }
      ]
    },
    {
      "cell_type": "code",
      "source": [
        "df_2 = df\n",
        "df_2['group'] = df.apply(lambda row: 'A' if pd.notnull(row['A']) else ('B' if pd.notnull(row['B']) else 'Контрольная группа'), axis=1)\n",
        "table_3 = pd.pivot_table(df_2,values='Age',index='group',columns='Gender', aggfunc='count')\n",
        "grouped_data_percent_3 = table_3.div(table_3.sum(axis=1), axis=0) * 100\n",
        "\n",
        "\n",
        "ax = grouped_data_percent_3.plot(kind='bar',color = ['red','blue'], stacked=True,alpha = 0.6)\n",
        "\n",
        "\n",
        "for p in ax.patches:\n",
        "    width, height = p.get_width(), p.get_height()\n",
        "    x, y = p.get_xy()\n",
        "    ax.annotate(f'{height:.1f}%', (x + width/2, y + height/2), ha='center', va='center')\n",
        "plt.legend(['Женщины','Мужчины' ],loc=\"upper left\",\n",
        "bbox_to_anchor=(1,1))\n",
        "plt.title('Распределение полов клиентов')\n",
        "plt.xticks(rotation=0)\n",
        "plt.xlabel('Группа')\n",
        "plt.ylabel('Доля %')\n",
        "plt.show()"
      ],
      "metadata": {
        "colab": {
          "base_uri": "https://localhost:8080/",
          "height": 472
        },
        "id": "bKcvRKGCOpVw",
        "outputId": "938b2c1f-72b5-4da4-857e-eda0e916f4e5"
      },
      "execution_count": 5,
      "outputs": [
        {
          "output_type": "display_data",
          "data": {
            "text/plain": [
              "<Figure size 640x480 with 1 Axes>"
            ],
            "image/png": "[encoded data removed]"
          },
          "metadata": {}
        }
      ]
    },
    {
      "cell_type": "code",
      "source": [
        "\n",
        "def categorize_age(age):\n",
        "  if age<=22:\n",
        "    return '<23'\n",
        "  elif 23<=age:\n",
        "    return '23+'\n",
        "\n",
        "df_2 = df\n",
        "\n",
        "df_2['AgeGroup'] = df_2['Age'].apply(lambda x: categorize_age(x))\n",
        "\n",
        "table_4 = pd.pivot_table(df_2,values='Age',index=['group'],columns='AgeGroup', aggfunc='count')\n",
        "#table_4_1 = table_4[table_4['AgeGroup']=='<23']\n",
        "#table_4_2 = table_4[table_4['AgeGroup']=='<\\23']\n",
        "table_4.transpose()\n",
        "\n",
        "\n",
        "grouped_data_percent = table_4.div(table_4.sum(axis=1), axis=0) * 100\n",
        "\n",
        "ax = grouped_data_percent.plot(kind='bar',color = ['orange','green'], stacked=True,alpha = 0.6)\n",
        "\n",
        "for p in ax.patches:\n",
        "    width, height = p.get_width(), p.get_height()\n",
        "    x, y = p.get_xy()\n",
        "    ax.annotate(f'{height:.1f}%', (x + width/2, y + height/2), ha='center', va='center')\n",
        "\n",
        "plt.title('Распределение клиентов по возрастным группам')\n",
        "plt.legend(loc=\"upper left\",\n",
        "bbox_to_anchor=(1,1))\n",
        "plt.xticks(rotation=0)\n",
        "plt.xlabel('Группа')\n",
        "plt.ylabel('Доля %')\n",
        "plt.show()"
      ],
      "metadata": {
        "colab": {
          "base_uri": "https://localhost:8080/",
          "height": 472
        },
        "id": "TOPUil7O-3PD",
        "outputId": "3b05eaf1-630b-41dd-c93e-d8ce91e21b42"
      },
      "execution_count": 71,
      "outputs": [
        {
          "output_type": "display_data",
          "data": {
            "text/plain": [
              "<Figure size 640x480 with 1 Axes>"
            ],
            "image/png": "[encoded data removed]"
          },
          "metadata": {}
        }
      ]
    },
    {
      "cell_type": "code",
      "source": [
        "def categorize_Exp(year):\n",
        "  if year == 2023:\n",
        "    return 'Давний'\n",
        "  elif year == 2024:\n",
        "    return 'Недавний'\n",
        "\n",
        "df_2['Exp'] = df_2['ClientSince'].apply(lambda x: categorize_Exp(x))\n",
        "\n",
        "table_2 = pd.pivot_table(df_2,values='Age',index=['group'],columns='Exp', aggfunc='count')\n",
        "grouped_data_percent_2 = table_2.div(table_2.sum(axis=1), axis=0) * 100\n",
        "\n",
        "ax = grouped_data_percent_2.plot(kind='bar',color = ['blue','purple'], stacked=True,alpha = 0.6)\n",
        "\n",
        "for p in ax.patches:\n",
        "    width, height = p.get_width(), p.get_height()\n",
        "    x, y = p.get_xy()\n",
        "    ax.annotate(f'{height:.1f}%', (x + width/2, y + height/2), ha='center', va='center')\n",
        "\n",
        "plt.title('Распределение клиентов по давности')\n",
        "plt.legend(loc=\"upper left\",\n",
        "bbox_to_anchor=(1,1))\n",
        "plt.xticks(rotation=0)\n",
        "plt.xlabel('Группа')\n",
        "plt.show()\n"
      ],
      "metadata": {
        "colab": {
          "base_uri": "https://localhost:8080/",
          "height": 472
        },
        "id": "njSCyrd-6wUw",
        "outputId": "8518e5fe-f709-4c3f-b2b1-6e87a8d54492"
      },
      "execution_count": 70,
      "outputs": [
        {
          "output_type": "display_data",
          "data": {
            "text/plain": [
              "<Figure size 640x480 with 1 Axes>"
            ],
            "image/png": "[encoded data removed]"
          },
          "metadata": {}
        }
      ]
    },
    {
      "cell_type": "markdown",
      "source": [
        "##Черный уровень"
      ],
      "metadata": {
        "id": "aZXd7gXPeewF"
      }
    },
    {
      "cell_type": "markdown",
      "source": [
        "###**Графики**"
      ],
      "metadata": {
        "id": "Byf1jtHNYgKZ"
      }
    },
    {
      "cell_type": "markdown",
      "source": [
        "####Естественные конверсии"
      ],
      "metadata": {
        "id": "QC07sBIx2b4Z"
      }
    },
    {
      "cell_type": "code",
      "source": [
        "\n",
        "nat_conv_old = not_participant[not_participant['ClientSince']==2023]['Purchased'].sum()/len(not_participant[not_participant['ClientSince']==2023])\n",
        "nat_conv_new = not_participant[not_participant['ClientSince']==2024]['Purchased'].sum()/len(not_participant[not_participant['ClientSince']==2024])\n",
        "\n",
        "values_conv = [nat_conv_new*100,nat_conv_old*100]\n",
        "\n",
        "categories = ['Недавние', 'Давние']\n",
        "\n",
        "plt.bar(categories, values_conv,width=0.5)\n",
        "\n",
        "\n",
        "plt.xlabel('Категория')\n",
        "plt.ylabel('Конверсия %')\n",
        "\n",
        "plt.title('Естественная конверсия по типу клиента(давний/недавний)')\n",
        "\n",
        "plt.ylim(0, 40)\n",
        "\n",
        "\n",
        "\n",
        "plt.show()\n"
      ],
      "metadata": {
        "id": "zG3xSYRmeeNm",
        "colab": {
          "base_uri": "https://localhost:8080/",
          "height": 472
        },
        "outputId": "144107d1-f96f-4c5f-d438-ea51c2f44a8b"
      },
      "execution_count": 82,
      "outputs": [
        {
          "output_type": "display_data",
          "data": {
            "text/plain": [
              "<Figure size 640x480 with 1 Axes>"
            ],
            "image/png": "[encoded data removed]"
          },
          "metadata": {}
        }
      ]
    },
    {
      "cell_type": "code",
      "source": [
        "not_participant = df_2[(df_2['A'] != 1) & (df['B']!=1)]\n",
        "\n",
        "\n",
        "\n",
        "not_part_22_old = not_participant[(not_participant['AgeGroup'] == '<23')&(not_participant['ClientSince'] == 2023)]\n",
        "not_part_23_old = not_participant[(not_participant['AgeGroup'] == '23+')&(not_participant['ClientSince'] == 2023)]\n",
        "not_part_22_new = not_participant[(not_participant['AgeGroup'] == '<23')&(not_participant['ClientSince'] == 2024)]\n",
        "not_part_23_new = not_participant[(not_participant['AgeGroup'] == '23+')&(not_participant['ClientSince'] == 2024)]\n",
        "\n",
        "\n",
        "nat_conv_new_sm23 = not_part_22_new['Purchased'].sum()/len(not_part_22_new['Purchased'])\n",
        "nat_conv_new_b23 = not_part_23_new['Purchased'].sum()/len(not_part_23_new['Purchased'])\n",
        "\n",
        "nat_conv_old_sm23= not_part_22_old['Purchased'].sum()/len(not_part_22_old['Purchased'])\n",
        "nat_conv_old_b23 = not_part_23_old['Purchased'].sum()/len(not_part_23_old['Purchased'])\n",
        "\n",
        "nat_conv_old_b23 = df_2[(df_2['group']=='Контрольная группа')&(df_2['Exp']=='Давний')&(df_2['AgeGroup']=='23+')]['Purchased'].sum()/len(df_2['Age'])\n",
        "nat_conv_old_sm23 = df_2[(df_2['group']=='Контрольная группа')&(df_2['Exp']=='Давний')&(df_2['AgeGroup']=='<23')]['Purchased'].sum()/len(df_2['Age'])\n",
        "\n",
        "nat_conv_new_b23 = df_2[(df_2['group']=='Контрольная группа')&(df_2['Exp']=='Недавний')&(df_2['AgeGroup']=='23+')]['Purchased'].sum()/len(df_2['Age'])\n",
        "nat_conv_new_sm23 = df_2[(df_2['group']=='Контрольная группа')&(df_2['Exp']=='Недавний')&(df_2['AgeGroup']=='<23')]['Purchased'].sum()/len(df_2['Age'])\n",
        "\n",
        "natural_conv_4groups = {\n",
        "    '<23': [nat_conv_old_sm23*100, nat_conv_new_sm23*100],\n",
        "    '23+': [nat_conv_old_b23*100, nat_conv_new_b23*100]\n",
        "}\n",
        "row_names = ['Давний', 'Недавний']\n",
        "\n",
        "# Create a DataFrame from the dictionary and set the row names\n",
        "nat_conv_OlNe = pd.DataFrame(natural_conv_4groups, index=row_names)\n",
        "\n",
        "nat_conv_OlNe.plot(kind='bar')\n",
        "plt.xticks(rotation=0)\n",
        "plt.ylim(0,7)\n",
        "plt.ylabel('Конверсия %')\n",
        "plt.title('Естественная конверсия по возрастным группам')\n",
        "plt.show()"
      ],
      "metadata": {
        "colab": {
          "base_uri": "https://localhost:8080/",
          "height": 452
        },
        "id": "19Xp6CxR2GGa",
        "outputId": "4037bdb7-bf48-4612-e0ed-1ff7eeed7c6d"
      },
      "execution_count": 83,
      "outputs": [
        {
          "output_type": "display_data",
          "data": {
            "text/plain": [
              "<Figure size 640x480 with 1 Axes>"
            ],
            "image/png": "[encoded data removed]"
          },
          "metadata": {}
        }
      ]
    },
    {
      "cell_type": "code",
      "source": [
        "\n",
        "not_part_male_old = not_participant[(not_participant['Gender'] == 'Male')&(not_participant['ClientSince'] == 2023)]\n",
        "not_part_female_old = not_participant[(not_participant['Gender'] == 'Female')&(not_participant['ClientSince'] == 2023)]\n",
        "not_part_male_new = not_participant[(not_participant['Gender'] == 'Male')&(not_participant['ClientSince'] == 2024)]\n",
        "not_part_female_new = not_participant[(not_participant['Gender'] == 'Female')&(not_participant['ClientSince'] == 2024)]\n",
        "\n",
        "\n",
        "nat_conv_new_male = not_part_male_new['Purchased'].sum()/len(not_part_male_new['Purchased'])\n",
        "nat_conv_new_female = not_part_female_new['Purchased'].sum()/len(not_part_female_new['Purchased'])\n",
        "\n",
        "nat_conv_old_male = not_part_male_old['Purchased'].sum()/len(not_part_male_old['Purchased'])\n",
        "nat_conv_old_female = not_part_female_old['Purchased'].sum()/len(not_part_female_old['Purchased'])\n",
        "\n",
        "\n",
        "natural_conv_4groups = {\n",
        "    'Мужчины': [nat_conv_old_male*100, nat_conv_new_male*100],\n",
        "    'Женщины': [nat_conv_old_female*100, nat_conv_new_female*100]\n",
        "}\n",
        "\n",
        "nat_conv_MF = pd.DataFrame(natural_conv_4groups, index=row_names)\n",
        "nat_conv_MF.plot(kind='bar',color =['blue','red'],alpha=0.8)\n",
        "plt.ylim(0,30)\n",
        "plt.xticks(rotation=0)\n",
        "plt.ylabel('Конверсия %')\n",
        "plt.title('Естественная конверсия')\n",
        "plt.show()"
      ],
      "metadata": {
        "colab": {
          "base_uri": "https://localhost:8080/",
          "height": 452
        },
        "id": "Rri_lLdZ81h_",
        "outputId": "98ac43e7-b89c-4d3a-9224-8d7a3dccbe23"
      },
      "execution_count": 86,
      "outputs": [
        {
          "output_type": "display_data",
          "data": {
            "text/plain": [
              "<Figure size 640x480 with 1 Axes>"
            ],
            "image/png": "[encoded data removed]"
          },
          "metadata": {}
        }
      ]
    },
    {
      "cell_type": "markdown",
      "source": [
        "####Группы А"
      ],
      "metadata": {
        "id": "tE82QsXE3nPC"
      }
    },
    {
      "cell_type": "code",
      "source": [
        "group_A = df_2[df_2['A']==1]\n",
        "group_B = df_2[df_2['B']==1]\n",
        "\n",
        "group_A_new = group_A[group_A['ClientSince']==2024]\n",
        "group_A_old = group_A[group_A['ClientSince']==2023]\n",
        "\n",
        "conv_group_A_old = group_A_old['Purchased'].sum()/len(group_A_old)\n",
        "conv_group_A_new = group_A_new['Purchased'].sum()/len(group_A_new)\n",
        "\n",
        "conv_type_A = {\n",
        "    'Давний': [conv_group_A_old*100],\n",
        "    'Недавний': [conv_group_A_new*100]\n",
        "}\n",
        "\n",
        "conv_type_A = pd.DataFrame(conv_type_A)\n",
        "conv_type_A.plot(kind='bar',color =['blue','red'],alpha=0.8)\n",
        "plt.ylim(0,30)\n",
        "plt.xticks(rotation=0)\n",
        "plt.ylabel('Конверсия %')\n",
        "plt.title('Естественная конверсия')\n",
        "plt.show()"
      ],
      "metadata": {
        "colab": {
          "base_uri": "https://localhost:8080/",
          "height": 452
        },
        "id": "nL9OuZ_h3upe",
        "outputId": "94cd4a9e-acfb-44f5-80ec-72e830643b0d"
      },
      "execution_count": 88,
      "outputs": [
        {
          "output_type": "display_data",
          "data": {
            "text/plain": [
              "<Figure size 640x480 with 1 Axes>"
            ],
            "image/png": "[encoded data removed]"
          },
          "metadata": {}
        }
      ]
    },
    {
      "cell_type": "markdown",
      "source": [
        "###**Прогноз РК**\n"
      ],
      "metadata": {
        "id": "Q-s-9c7qMuih"
      }
    },
    {
      "cell_type": "markdown",
      "source": [
        "####**Конверсии**"
      ],
      "metadata": {
        "id": "88ceTOYUnJZs"
      }
    },
    {
      "cell_type": "markdown",
      "source": [
        "#####***Давние/Недавние***"
      ],
      "metadata": {
        "id": "DHbBTQqK0tyb"
      }
    },
    {
      "cell_type": "markdown",
      "source": [
        "######*Группа А*"
      ],
      "metadata": {
        "id": "B_f-Z6SZ65d-"
      }
    },
    {
      "cell_type": "code",
      "source": [
        "#Конверсия давние/недавние в группе А\n",
        "\n",
        "group_A = df_2[df_2['A']==1]\n",
        "group_B = df_2[df_2['B']==1]\n",
        "\n",
        "group_A_new = group_A[group_A['ClientSince']==2024]\n",
        "group_A_old = group_A[group_A['ClientSince']==2023]\n",
        "\n",
        "conv_group_A_old = group_A_old['Purchased'].sum()/len(group_A_old)\n",
        "conv_group_A_new = group_A_new['Purchased'].sum()/len(group_A_new)\n",
        "\n",
        "\n",
        "\n",
        "\n",
        "print(f'Конверсия среди давних клиентов в группе А: {conv_group_A_old}')\n",
        "print(f'Конверсия среди недавних клиентов в группе А: {conv_group_A_new}')\n",
        "\n"
      ],
      "metadata": {
        "colab": {
          "base_uri": "https://localhost:8080/"
        },
        "id": "hxWB9Lbvbnn4",
        "outputId": "6c7f0642-1853-4406-d6ad-529e856ede83"
      },
      "execution_count": 22,
      "outputs": [
        {
          "output_type": "stream",
          "name": "stdout",
          "text": [
            "Конверсия среди давних клиентов в группе А: 0.2\n",
            "Конверсия среди недавних клиентов в группе А: 0.0875\n"
          ]
        }
      ]
    },
    {
      "cell_type": "markdown",
      "source": [
        "######*Группа В*"
      ],
      "metadata": {
        "id": "UbU9qmX868_0"
      }
    },
    {
      "cell_type": "code",
      "source": [
        "\n",
        "group_B_new = group_B[group_B['ClientSince']==2024]\n",
        "group_B_old = group_B[group_B['ClientSince']==2023]\n",
        "\n",
        "conv_group_B_old = group_B_old['Purchased'].sum()/len(group_B_old)\n",
        "conv_group_B_new = group_B_new['Purchased'].sum()/len(group_B_new)\n",
        "\n",
        "\n",
        "\n",
        "\n",
        "print(f'Конверсия среди недавних клиентов в группе B: {conv_group_B_old}')\n",
        "print(f'Конверсия среди давних клиентов в группе B: {conv_group_B_new}')\n"
      ],
      "metadata": {
        "colab": {
          "base_uri": "https://localhost:8080/"
        },
        "id": "bPXrfxju7NQZ",
        "outputId": "2eac12bc-ba42-4d57-aef0-d65dc9502770"
      },
      "execution_count": 35,
      "outputs": [
        {
          "output_type": "stream",
          "name": "stdout",
          "text": [
            "Конверсия среди недавних клиентов в группе B: 0.2\n",
            "Конверсия среди давних клиентов в группе B: 0.03\n"
          ]
        }
      ]
    },
    {
      "cell_type": "markdown",
      "source": [
        "######*Естественная конверсия*"
      ],
      "metadata": {
        "id": "_DZeB_uC7H87"
      }
    },
    {
      "cell_type": "code",
      "source": [
        "#Естественная конверсия давние/недавние\n",
        "nat_conv_old = not_participant[not_participant['ClientSince']==2023]['Purchased'].sum()/len(not_participant[not_participant['ClientSince']==2023])\n",
        "nat_conv_new = not_participant[not_participant['ClientSince']==2024]['Purchased'].sum()/len(not_participant[not_participant['ClientSince']==2024])\n",
        "\n",
        "print(f'Естественная конверсия среди давних клиентов: {nat_conv_old}')\n",
        "print(f'Естественная конверсия среди новых клиентов: {nat_conv_new}')"
      ],
      "metadata": {
        "colab": {
          "base_uri": "https://localhost:8080/"
        },
        "id": "pEDmzQLxzkEk",
        "outputId": "be14be69-f65e-47fc-8118-96cf1b3a378a"
      },
      "execution_count": 72,
      "outputs": [
        {
          "output_type": "stream",
          "name": "stdout",
          "text": [
            "Естественная конверсия среди давних клиентов: 0.2\n",
            "Естественная конверсия среди новых клиентов: 0.029947916666666668\n"
          ]
        }
      ]
    },
    {
      "cell_type": "markdown",
      "source": [
        "#####***Мужчины/Женщины***"
      ],
      "metadata": {
        "id": "rhxfvtFB01ws"
      }
    },
    {
      "cell_type": "markdown",
      "source": [
        "######*Группа А*"
      ],
      "metadata": {
        "id": "m4c8qT8J8icr"
      }
    },
    {
      "cell_type": "code",
      "source": [
        "#Конверсия в половых категориях группы А\n",
        "\n",
        "conv_group_A_new_male = group_A_new[group_A_new['Gender']=='Male']['Purchased'].sum()/len(group_A_new[group_A_new['Gender']=='Male'])\n",
        "conv_group_A_new_fem = group_A_new[group_A_new['Gender']=='Female']['Purchased'].sum()/len(group_A_new[group_A_new['Gender']=='Female'])\n",
        "\n",
        "conv_group_A_old_male = group_A_old[group_A_old['Gender']=='Male']['Purchased'].sum()/len(group_A_old[group_A_old['Gender']=='Male'])\n",
        "conv_group_A_old_fem = group_A_old[group_A_old['Gender']=='Female']['Purchased'].sum()/len(group_A_old[group_A_old['Gender']=='Female'])\n",
        "\n",
        "\n",
        "print('Недавние')\n",
        "print(f'Конверсия среди клиентов мужчин в группе А: {conv_group_A_new_male}')\n",
        "print(f'Конверсия среди клиентов женщин в группе А: {conv_group_A_new_fem}')\n",
        "print('Давние')\n",
        "print(f'Конверсия среди недавних клиентов мужчин в группе А: {conv_group_A_old_male}')\n",
        "print(f'Конверсия среди давних клиентов женщин в группе А: {conv_group_A_old_fem}')"
      ],
      "metadata": {
        "colab": {
          "base_uri": "https://localhost:8080/"
        },
        "id": "HxIxQsxlnVKS",
        "outputId": "5f49d3bc-b8d6-4cd9-8a7d-6b96b12ce364"
      },
      "execution_count": 14,
      "outputs": [
        {
          "output_type": "stream",
          "name": "stdout",
          "text": [
            "Недавние\n",
            "Конверсия среди клиентов мужчин в группе А: 0.06153846153846154\n",
            "Конверсия среди клиентов женщин в группе А: 0.11818181818181818\n",
            "Давние\n",
            "Конверсия среди недавних клиентов мужчин в группе А: 0.2\n",
            "Конверсия среди давних клиентов женщин в группе А: 0.2\n"
          ]
        }
      ]
    },
    {
      "cell_type": "markdown",
      "source": [
        "######*Группа В*"
      ],
      "metadata": {
        "id": "eReZFpaO8vi0"
      }
    },
    {
      "cell_type": "code",
      "source": [
        "conv_group_B_new_male = group_B_new[group_B_new['Gender']=='Male']['Purchased'].sum()/len(group_B_new[group_B_new['Gender']=='Male'])\n",
        "conv_group_B_new_fem = group_B_new[group_B_new['Gender']=='Female']['Purchased'].sum()/len(group_B_new[group_B_new['Gender']=='Female'])\n",
        "\n",
        "conv_group_B_old_male = group_B_old[group_B_old['Gender']=='Male']['Purchased'].sum()/len(group_B_old[group_B_old['Gender']=='Male'])\n",
        "conv_group_B_old_fem = group_B_old[group_B_old['Gender']=='Female']['Purchased'].sum()/len(group_B_old[group_B_old['Gender']=='Female'])\n",
        "\n",
        "\n",
        "print('Недавние')\n",
        "print(f'Конверсия среди клиентов мужчин в группе В: {conv_group_B_new_male}')\n",
        "print(f'Конверсия среди клиентов женщин в группе В: {conv_group_B_new_fem}')\n",
        "print('Давние')\n",
        "print(f'Конверсия среди клиентов мужчин в группе В: {conv_group_B_old_male}')\n",
        "print(f'Конверсия среди клиентов женщин в группе В: {conv_group_B_old_fem}')"
      ],
      "metadata": {
        "colab": {
          "base_uri": "https://localhost:8080/"
        },
        "id": "ariPTcYT8xLI",
        "outputId": "3f5cdf0f-5924-493e-8b9f-0dc8a596b434"
      },
      "execution_count": 89,
      "outputs": [
        {
          "output_type": "stream",
          "name": "stdout",
          "text": [
            "Недавние\n",
            "Конверсия среди клиентов мужчин в группе В: 0.021052631578947368\n",
            "Конверсия среди клиентов женщин в группе В: 0.0380952380952381\n",
            "Давние\n",
            "Конверсия среди клиентов мужчин в группе В: 0.21084337349397592\n",
            "Конверсия среди клиентов женщин в группе В: 0.1865671641791045\n"
          ]
        }
      ]
    },
    {
      "cell_type": "markdown",
      "source": [
        "######*Естественная конверсия*"
      ],
      "metadata": {
        "id": "W-edx57x8orL"
      }
    },
    {
      "cell_type": "code",
      "source": [
        "#Естественная конверсия среди мужчин и женщин(давние/недавние)\n",
        "\n",
        "not_part_male_old = not_participant[(not_participant['Gender'] == 'Male')&(not_participant['ClientSince'] == 2023)]\n",
        "not_part_female_old = not_participant[(not_participant['Gender'] == 'Female')&(not_participant['ClientSince'] == 2023)]\n",
        "not_part_male_new = not_participant[(not_participant['Gender'] == 'Male')&(not_participant['ClientSince'] == 2024)]\n",
        "not_part_female_new = not_participant[(not_participant['Gender'] == 'Female')&(not_participant['ClientSince'] == 2024)]\n",
        "\n",
        "\n",
        "nat_conv_new_male = not_part_male_new['Purchased'].sum()/len(not_part_male_new['Purchased'])\n",
        "nat_conv_new_fem = not_part_female_new['Purchased'].sum()/len(not_part_female_new['Purchased'])\n",
        "\n",
        "nat_conv_old_male = not_part_male_old['Purchased'].sum()/len(not_part_male_old['Purchased'])\n",
        "nat_conv_old_fem = not_part_female_old['Purchased'].sum()/len(not_part_female_old['Purchased'])\n",
        "\n",
        "print('Недавние')\n",
        "print(f'Конверсия среди недавних клиентов мужчин в : {nat_conv_new_male}')\n",
        "print(f'Конверсия среди недавних клиентов женщин в : {nat_conv_new_fem}')\n",
        "print('Давние')\n",
        "print(f'Конверсия среди давних клиентов мужчин : {nat_conv_old_male}')\n",
        "print(f'Конверсия среди давних клиентов женщин : {nat_conv_old_fem}')"
      ],
      "metadata": {
        "colab": {
          "base_uri": "https://localhost:8080/"
        },
        "id": "dnWd2L6sy0Vn",
        "outputId": "a6d5b5d1-a5b3-4b30-ceda-f67994ad9e41"
      },
      "execution_count": 90,
      "outputs": [
        {
          "output_type": "stream",
          "name": "stdout",
          "text": [
            "Недавние\n",
            "Конверсия среди недавних клиентов мужчин в : 0.029248091109097967\n",
            "Конверсия среди недавних клиентов женщин в : 0.030656360539761562\n",
            "Давние\n",
            "Конверсия среди давних клиентов мужчин : 0.1981753674607197\n",
            "Конверсия среди давних клиентов женщин : 0.20192822710230315\n"
          ]
        }
      ]
    },
    {
      "cell_type": "markdown",
      "source": [
        "#####***По возрасту***"
      ],
      "metadata": {
        "id": "OD4mtlIx46X2"
      }
    },
    {
      "cell_type": "markdown",
      "source": [
        "######Группа А"
      ],
      "metadata": {
        "id": "wcurVPJ27Q7A"
      }
    },
    {
      "cell_type": "code",
      "source": [
        "#Конверсия в группе А по возрасту(давний\\недавний)\n",
        "\n",
        "conv_group_A_new_23 = group_A_new[group_A_new['AgeGroup']=='23+']['Purchased'].sum()/len(group_A_new[group_A_new['AgeGroup']=='23+'])\n",
        "conv_group_A_new_22 = group_A_new[group_A_new['AgeGroup']=='<23']['Purchased'].sum()/len(group_A_new[group_A_new['AgeGroup']=='<23'])\n",
        "\n",
        "conv_group_A_old_23 = group_A_old[group_A_old['AgeGroup']=='23+']['Purchased'].sum()/len(group_A_old[group_A_old['AgeGroup']=='23+'])\n",
        "conv_group_A_old_22 = group_A_old[group_A_old['AgeGroup']=='<23']['Purchased'].sum()/len(group_A_old[group_A_old['AgeGroup']=='<23'])\n",
        "\n",
        "\n",
        "print('Недавние')\n",
        "print(f'Конверсия клиентов младше 23 в группе А: {conv_group_A_new_22}')\n",
        "print(f'Конверсия клиентов старше 23 в группе А: {conv_group_A_new_23}')\n",
        "print('Давние')\n",
        "print(f'Конверсия клиентов младше 23 в группе А: {conv_group_A_old_22}')\n",
        "print(f'Конверсия клиентов старше 23 в группе А: {conv_group_A_old_23}')"
      ],
      "metadata": {
        "colab": {
          "base_uri": "https://localhost:8080/"
        },
        "id": "8JODQTIC5AoH",
        "outputId": "e4a60aa9-a6ab-4b4a-8b8a-4745d49bdb21"
      },
      "execution_count": 91,
      "outputs": [
        {
          "output_type": "stream",
          "name": "stdout",
          "text": [
            "Недавние\n",
            "Конверсия клиентов младше 23 в группе А: 0.07079646017699115\n",
            "Конверсия клиентов старше 23 в группе А: 0.10236220472440945\n",
            "Давние\n",
            "Конверсия клиентов младше 23 в группе А: 0.17857142857142858\n",
            "Конверсия клиентов старше 23 в группе А: 0.21875\n"
          ]
        }
      ]
    },
    {
      "cell_type": "markdown",
      "source": [
        "######Группа В"
      ],
      "metadata": {
        "id": "y9_NDbTg7vK7"
      }
    },
    {
      "cell_type": "code",
      "source": [
        "\n",
        "conv_group_B_new_23 = group_B_new[group_B_new['AgeGroup']=='23+']['Purchased'].sum()/len(group_B_new[group_B_new['AgeGroup']=='23+'])\n",
        "conv_group_B_new_22 = group_B_new[group_B_new['AgeGroup']=='<23']['Purchased'].sum()/len(group_B_new[group_B_new['AgeGroup']=='<23'])\n",
        "\n",
        "conv_group_B_old_23 = group_B_old[group_B_old['AgeGroup']=='23+']['Purchased'].sum()/len(group_B_old[group_B_old['AgeGroup']=='23+'])\n",
        "conv_group_B_old_22 = group_B_old[group_B_old['AgeGroup']=='<23']['Purchased'].sum()/len(group_B_old[group_B_old['AgeGroup']=='<23'])\n",
        "\n",
        "\n",
        "print('Недавние')\n",
        "print(f'Конверсия среди клиентов младше 23 в группе В: {conv_group_B_new_22}')\n",
        "print(f'Конверсия среди клиентов старше 23 в группе В: {conv_group_B_new_23}')\n",
        "print('Давние')\n",
        "print(f'Конверсия среди клиентов младше 23 в группе В: {conv_group_B_old_22}')\n",
        "print(f'Конверсия среди клиентов старше 23 в группе В: {conv_group_B_old_23}')"
      ],
      "metadata": {
        "colab": {
          "base_uri": "https://localhost:8080/"
        },
        "id": "sDGibU1I7yHR",
        "outputId": "e2566673-e7ac-46ea-ea94-2768fb9120f5"
      },
      "execution_count": 92,
      "outputs": [
        {
          "output_type": "stream",
          "name": "stdout",
          "text": [
            "Недавние\n",
            "Конверсия среди клиентов младше 23 в группе В: 0.036585365853658534\n",
            "Конверсия среди клиентов старше 23 в группе В: 0.025423728813559324\n",
            "Давние\n",
            "Конверсия среди клиентов младше 23 в группе В: 0.20714285714285716\n",
            "Конверсия среди клиентов старше 23 в группе В: 0.19375\n"
          ]
        }
      ]
    },
    {
      "cell_type": "markdown",
      "source": [
        "######Естественная конверсия"
      ],
      "metadata": {
        "id": "gxeW84Nj90et"
      }
    },
    {
      "cell_type": "code",
      "source": [
        "not_participant = df_2[(df_2['A'] != 1) & (df['B']!=1)]\n",
        "\n",
        "\n",
        "\n",
        "not_part_22_old = not_participant[(not_participant['AgeGroup'] == '<23')&(not_participant['ClientSince'] == 2023)]\n",
        "not_part_23_old = not_participant[(not_participant['AgeGroup'] == '23+')&(not_participant['ClientSince'] == 2023)]\n",
        "not_part_22_new = not_participant[(not_participant['AgeGroup'] == '<23')&(not_participant['ClientSince'] == 2024)]\n",
        "not_part_23_new = not_participant[(not_participant['AgeGroup'] == '23+')&(not_participant['ClientSince'] == 2024)]\n",
        "\n",
        "\n",
        "nat_conv_new_22 = not_part_22_new['Purchased'].sum()/len(not_part_22_new['Purchased'])\n",
        "nat_conv_new_23 = not_part_23_new['Purchased'].sum()/len(not_part_23_new['Purchased'])\n",
        "\n",
        "nat_conv_old_22 = not_part_22_old['Purchased'].sum()/len(not_part_22_old['Purchased'])\n",
        "nat_conv_old_23 = not_part_23_old['Purchased'].sum()/len(not_part_23_old['Purchased'])\n",
        "\n",
        "print('Недавние')\n",
        "print(f'Естественная конверсия в категории младше 23: {nat_conv_new_22}')\n",
        "print(f'Естественная конверсия в категории старше 23: {nat_conv_new_23}')\n",
        "print('Давние')\n",
        "print(f'Естественная конверсия в категории младше 23: {nat_conv_old_22}')\n",
        "print(f'Естественная конверсия в категории старше 23: {nat_conv_old_23}')"
      ],
      "metadata": {
        "colab": {
          "base_uri": "https://localhost:8080/"
        },
        "id": "NZrp_s70-Axy",
        "outputId": "610f888d-26c7-46c3-92ad-31adb3d8c256"
      },
      "execution_count": 77,
      "outputs": [
        {
          "output_type": "stream",
          "name": "stdout",
          "text": [
            "Недавние\n",
            "Естественная конверсия в категории младше 23: 0.03224909646927995\n",
            "Естественная конверсия в категории старше 23: 0.027920646583394562\n",
            "Давние\n",
            "Естественная конверсия в категории младше 23: 0.20271800679501698\n",
            "Естественная конверсия в категории старше 23: 0.19768563162970107\n"
          ]
        }
      ]
    },
    {
      "cell_type": "markdown",
      "source": [
        "####**Прибыль**\n"
      ],
      "metadata": {
        "id": "NpAA8YpC-YgD"
      }
    },
    {
      "cell_type": "markdown",
      "source": [
        "#####***Группа А***"
      ],
      "metadata": {
        "id": "NuncP08PAhkm"
      }
    },
    {
      "cell_type": "markdown",
      "source": [
        "######*Давние/Недавние*"
      ],
      "metadata": {
        "id": "lLsLprjYbbVy"
      }
    },
    {
      "cell_type": "code",
      "source": [
        "print('Недавние')\n",
        "print(f'Дополнительных покупок: { int((0.0875-0.0299)*len(not_participant))}')\n",
        "print(f'Доход от покупок: { int((0.0875-0.0299)*len(not_participant))*3000}')\n",
        "print(f'Расходы: { int((0.0875-0.0299)*len(not_participant))*80}')\n",
        "print(f'Прибыль: { int((0.0875-0.0299)*len(not_participant))*(3000-80)}')\n",
        "\n",
        "print('Давние')\n",
        "print(f'Дополнительных покупок: 0')\n",
        "print(f'Доход от покупок: 0')\n",
        "print(f'Расход: 0')\n",
        "print(f'Прибыль: 0')\n"
      ],
      "metadata": {
        "colab": {
          "base_uri": "https://localhost:8080/"
        },
        "id": "3qDL1yK6_Asd",
        "outputId": "a27843bc-ae02-45df-aef5-efa14ffe139e"
      },
      "execution_count": 24,
      "outputs": [
        {
          "output_type": "stream",
          "name": "stdout",
          "text": [
            "Недавние\n",
            "Дополнительных покупок: 1105\n",
            "Доход от покупок: 3315000\n",
            "Расходы: 88400\n",
            "Прибыль: 3226600\n",
            "Давние\n",
            "Дополнительных покупок: 0\n",
            "Доход от покупок: 0\n",
            "Расход: 0\n",
            "Прибыль: 0\n"
          ]
        }
      ]
    },
    {
      "cell_type": "markdown",
      "source": [
        "######*Мужчины/Женщины(давние/недавние)*"
      ],
      "metadata": {
        "id": "4cR61kAEbh3R"
      }
    },
    {
      "cell_type": "code",
      "source": [
        "print('Недавние клиенты мужчины')\n",
        "print(f'Дополнительных покупок: { int((0.0615- 0.0292)*len(not_participant))}')\n",
        "print(f'Доход от покупок: { int((0.0615- 0.0292)*len(not_participant))*3000}')\n",
        "print(f'Расходы: { int((0.0615- 0.0292)*len(not_participant))*80}')\n",
        "print(f'Прибыль: { int((0.0615- 0.0292)*len(not_participant))*(3000-80)}')\n"
      ],
      "metadata": {
        "colab": {
          "base_uri": "https://localhost:8080/"
        },
        "id": "2nMfVl5ucYFi",
        "outputId": "dd9148ca-8cbe-40d1-8fba-3547a95d7ee1"
      },
      "execution_count": 26,
      "outputs": [
        {
          "output_type": "stream",
          "name": "stdout",
          "text": [
            "Недавние клиенты мужчины\n",
            "Дополнительных покупок: 620\n",
            "Доход от покупок: 1860000\n",
            "Расходы: 49600\n",
            "Прибыль: 1810400\n"
          ]
        }
      ]
    },
    {
      "cell_type": "code",
      "source": [
        "print('Давние клиенты мужчины')\n",
        "print(f'Дополнительных покупок: { int((0.2- 0.198)*len(not_participant))}')\n",
        "print(f'Доход от покупок: { int((0.2- 0.198)*len(not_participant))*3000}')\n",
        "print(f'Расходы: { int((0.2- 0.198)*len(not_participant))*80}')\n",
        "print(f'Прибыль: { int((0.2- 0.198)*len(not_participant))*(3000-80)}')"
      ],
      "metadata": {
        "colab": {
          "base_uri": "https://localhost:8080/"
        },
        "id": "A3qdKNsEeEMF",
        "outputId": "79701ded-1c30-459d-b748-0f117860f7e6"
      },
      "execution_count": 27,
      "outputs": [
        {
          "output_type": "stream",
          "name": "stdout",
          "text": [
            "Давние клиенты мужчины\n",
            "Дополнительных покупок: 38\n",
            "Доход от покупок: 114000\n",
            "Расходы: 3040\n",
            "Прибыль: 110960\n"
          ]
        }
      ]
    },
    {
      "cell_type": "code",
      "source": [
        "print('Недавние клиенты женщины')\n",
        "print(f'Дополнительных покупок: { int((0.1181- 0.0306)*len(not_participant))}')\n",
        "print(f'Доход от покупок: { int((0.1181- 0.0306)*len(not_participant))*3000}')\n",
        "print(f'Расходы: { int((0.1181- 0.0306)*len(not_participant))*80}')\n",
        "print(f'Прибыль: { int((0.1181- 0.0306)*len(not_participant))*(3000-80)}')"
      ],
      "metadata": {
        "colab": {
          "base_uri": "https://localhost:8080/"
        },
        "id": "vmaHg624eCLP",
        "outputId": "7564007f-9439-47aa-b065-91eadcd09262"
      },
      "execution_count": 29,
      "outputs": [
        {
          "output_type": "stream",
          "name": "stdout",
          "text": [
            "Недавние клиенты женщины\n",
            "Дополнительных покупок: 1680\n",
            "Доход от покупок: 5040000\n",
            "Расходы: 134400\n",
            "Прибыль: 4905600\n"
          ]
        }
      ]
    },
    {
      "cell_type": "code",
      "source": [
        "print('Давние клиенты женщины')\n",
        "print(f'Дополнительных покупок: отрицательно')\n",
        "print(f'Доход от покупок: отрицательно')\n",
        "print(f'Расходы: отрицательно')\n",
        "print(f'Прибыль: отрицательно')"
      ],
      "metadata": {
        "colab": {
          "base_uri": "https://localhost:8080/"
        },
        "id": "YCubvDdneGxa",
        "outputId": "17a73dd1-b8c1-4cf9-b615-8eabeea231b4"
      },
      "execution_count": 44,
      "outputs": [
        {
          "output_type": "stream",
          "name": "stdout",
          "text": [
            "Давние клиенты женщины\n",
            "Дополнительных покупок: отрицательно\n",
            "Доход от покупок: отрицательно\n",
            "Расходы: отрицательно\n",
            "Прибыль: отрицательно\n"
          ]
        }
      ]
    },
    {
      "cell_type": "markdown",
      "source": [
        "######*до/после 23(давние/недавние)*"
      ],
      "metadata": {
        "id": "PNDgDjb-dXix"
      }
    },
    {
      "cell_type": "code",
      "source": [
        "print('Недавние клиенты младше 23')\n",
        "print(f'Дополнительных покупок: { int((0.07079- 0.03224)*len(not_participant))}')\n",
        "print(f'Доход от покупок: { int((0.07079- 0.03224)*len(not_participant))*3000}')\n",
        "print(f'Расходы: { int((0.07079- 0.03224)*len(not_participant))*80}')\n",
        "print(f'Прибыль: { int((0.07079- 0.03224)*len(not_participant))*(3000-80)}')"
      ],
      "metadata": {
        "colab": {
          "base_uri": "https://localhost:8080/"
        },
        "id": "SS2G4Nxee3l-",
        "outputId": "56d297a8-4816-4aae-882a-ad630f4c2349"
      },
      "execution_count": 30,
      "outputs": [
        {
          "output_type": "stream",
          "name": "stdout",
          "text": [
            "Недавние клиенты младше 23\n",
            "Дополнительных покупок: 740\n",
            "Доход от покупок: 2220000\n",
            "Расходы: 59200\n",
            "Прибыль: 2160800\n"
          ]
        }
      ]
    },
    {
      "cell_type": "code",
      "source": [
        "print('Недавние клиенты старше 23')\n",
        "print(f'Дополнительных покупок: { int((0.10236-0.02792)*len(not_participant))}')\n",
        "print(f'Доход от покупок: { int((0.10236-0.02792)*len(not_participant))*3000}')\n",
        "print(f'Расходы: { int((0.10236-0.02792)*len(not_participant))*80}')\n",
        "print(f'Прибыль: { int((0.10236-0.02792)*len(not_participant))*(3000-80)}')"
      ],
      "metadata": {
        "colab": {
          "base_uri": "https://localhost:8080/"
        },
        "id": "i4tNNEwufaau",
        "outputId": "e1e850af-e68d-4e8f-b278-99dd9ab80654"
      },
      "execution_count": 32,
      "outputs": [
        {
          "output_type": "stream",
          "name": "stdout",
          "text": [
            "Недавние клиенты старше 23\n",
            "Дополнительных покупок: 1429\n",
            "Доход от покупок: 4287000\n",
            "Расходы: 114320\n",
            "Прибыль: 4172680\n"
          ]
        }
      ]
    },
    {
      "cell_type": "code",
      "source": [
        "print('Давние клиенты младше 23')\n",
        "print(f'Дополнительных покупок: отрицательно')\n",
        "print(f'Доход от покупок: отрицательно')\n",
        "print(f'Расходы: отрицательно')\n",
        "print(f'Прибыль: отрицательно')"
      ],
      "metadata": {
        "colab": {
          "base_uri": "https://localhost:8080/"
        },
        "id": "HJzWorsefhmw",
        "outputId": "6921209f-c56a-4e1a-b57d-7f1978979a44"
      },
      "execution_count": 78,
      "outputs": [
        {
          "output_type": "stream",
          "name": "stdout",
          "text": [
            "Давние клиенты младше 23\n",
            "Дополнительных покупок: отрицательно\n",
            "Доход от покупок: отрицательно\n",
            "Расходы: отрицательно\n",
            "Прибыль: отрицательно\n"
          ]
        }
      ]
    },
    {
      "cell_type": "code",
      "source": [
        "print('Давние клиенты старше 23')\n",
        "print(f'Дополнительных покупок: { int((0.21875-0.19768)*len(not_participant))}')\n",
        "print(f'Доход от покупок: { int((0.21875-0.19768)*len(not_participant))*3000}')\n",
        "print(f'Расходы: { int((0.21875-0.19768)*len(not_participant))*80}')\n",
        "print(f'Прибыль: { int((0.21875-0.19768)*len(not_participant))*(3000-80)}')"
      ],
      "metadata": {
        "colab": {
          "base_uri": "https://localhost:8080/"
        },
        "id": "SeC380eofiJc",
        "outputId": "fabfdfdf-466c-4737-d415-95cad7f85fa6"
      },
      "execution_count": 79,
      "outputs": [
        {
          "output_type": "stream",
          "name": "stdout",
          "text": [
            "Давние клиенты старше 23\n",
            "Дополнительных покупок: 404\n",
            "Доход от покупок: 1212000\n",
            "Расходы: 32320\n",
            "Прибыль: 1179680\n"
          ]
        }
      ]
    },
    {
      "cell_type": "markdown",
      "source": [
        "#####***Группа В***"
      ],
      "metadata": {
        "id": "bG9u-9eqgm0E"
      }
    },
    {
      "cell_type": "markdown",
      "source": [
        "######*Недавние/Давние*"
      ],
      "metadata": {
        "id": "mh34RXukg2U5"
      }
    },
    {
      "cell_type": "code",
      "source": [
        "print('Недавние')\n",
        "print(f'Дополнительных покупок: 0')\n",
        "print(f'Доход от покупок: 0')\n",
        "print(f'Расход: 0')\n",
        "print(f'Прибыль: 0\\n')\n",
        "\n",
        "\n",
        "\n",
        "print('Давние')\n",
        "print(f'Дополнительных покупок: { int((0.03-0.029)*len(not_participant))}')\n",
        "print(f'Доход от покупок: { int((0.03-0.029)*len(not_participant))*3000}')\n",
        "print(f'Расходы: { int((0.03-0.029)*len(not_participant))*80}')\n",
        "print(f'Прибыль: { int((0.03-0.029)*len(not_participant))*(3000-80)}')\n",
        "\n"
      ],
      "metadata": {
        "colab": {
          "base_uri": "https://localhost:8080/"
        },
        "id": "vvM9WZPsgzlv",
        "outputId": "40674970-4705-4206-bb9c-80054f7c6536"
      },
      "execution_count": 93,
      "outputs": [
        {
          "output_type": "stream",
          "name": "stdout",
          "text": [
            "Недавние\n",
            "Дополнительных покупок: 0\n",
            "Доход от покупок: 0\n",
            "Расход: 0\n",
            "Прибыль: 0\n",
            "\n",
            "Давние\n",
            "Дополнительных покупок: 19\n",
            "Доход от покупок: 57000\n",
            "Расходы: 1520\n",
            "Прибыль: 55480\n"
          ]
        }
      ]
    },
    {
      "cell_type": "markdown",
      "source": [
        "######*Мужчины/Женщины(давние/недавние)*"
      ],
      "metadata": {
        "id": "je9Lt9_jh21G"
      }
    },
    {
      "cell_type": "code",
      "source": [
        "print('Недавние клиенты мужчины')\n",
        "print(f'Дополнительных покупок: отрицательно')\n",
        "print(f'Доход от покупок: отрицательно')\n",
        "print(f'Расходы: отрицательно')\n",
        "print(f'Прибыль: отрицательно')"
      ],
      "metadata": {
        "colab": {
          "base_uri": "https://localhost:8080/"
        },
        "id": "SECI9Fvag0BH",
        "outputId": "9d6f3ab3-d329-4426-ec90-c63b0e4aed7f"
      },
      "execution_count": 42,
      "outputs": [
        {
          "output_type": "stream",
          "name": "stdout",
          "text": [
            "Недавние клиенты мужчины\n",
            "Дополнительных покупок: отрицательно\n",
            "Доход от покупок: отрицательно\n",
            "Расходы: отрицательно\n",
            "Прибыль: отрицательно\n"
          ]
        }
      ]
    },
    {
      "cell_type": "code",
      "source": [
        "print('Давние клиенты мужчины')\n",
        "print(f'Дополнительных покупок: { int((0.2108- 0.1981)*len(not_participant))}')\n",
        "print(f'Доход от покупок: { int((0.2108- 0.1981)*len(not_participant))*3000}')\n",
        "print(f'Расходы: { int((0.2108- 0.1981)*len(not_participant))*80}')\n",
        "print(f'Прибыль: { int((0.2108- 0.1981)*len(not_participant))*(3000-80)}')"
      ],
      "metadata": {
        "colab": {
          "base_uri": "https://localhost:8080/"
        },
        "id": "qGJ5xfACg0Ve",
        "outputId": "4b7af4f3-05f0-4f97-e21b-53ce33d78c28"
      },
      "execution_count": 41,
      "outputs": [
        {
          "output_type": "stream",
          "name": "stdout",
          "text": [
            "Давние клиенты мужчины\n",
            "Дополнительных покупок: 243\n",
            "Доход от покупок: 729000\n",
            "Расходы: 19440\n",
            "Прибыль: 709560\n"
          ]
        }
      ]
    },
    {
      "cell_type": "code",
      "source": [
        "print('Недавние клиенты женщины')\n",
        "print(f'Дополнительных покупок: { int((0.03809- 0.0306)*len(not_participant))}')\n",
        "print(f'Доход от покупок: { int((0.03809- 0.0306)*len(not_participant))*3000}')\n",
        "print(f'Расходы: { int((0.03809- 0.0306)*len(not_participant))*80}')\n",
        "print(f'Прибыль: { int((0.03809- 0.0306)*len(not_participant))*(3000-80)}')"
      ],
      "metadata": {
        "colab": {
          "base_uri": "https://localhost:8080/"
        },
        "id": "dPpjsHhqg0nB",
        "outputId": "403eb610-9be8-4b95-858b-c718762db856"
      },
      "execution_count": 43,
      "outputs": [
        {
          "output_type": "stream",
          "name": "stdout",
          "text": [
            "Недавние клиенты женщины\n",
            "Дополнительных покупок: 143\n",
            "Доход от покупок: 429000\n",
            "Расходы: 11440\n",
            "Прибыль: 417560\n"
          ]
        }
      ]
    },
    {
      "cell_type": "code",
      "source": [
        "print('Давние клиенты женщины')\n",
        "print(f'Дополнительных покупок: отрицательно')\n",
        "print(f'Доход от покупок: отрицательно')\n",
        "print(f'Расходы: отрицательно')\n",
        "print(f'Прибыль: отрицательно')"
      ],
      "metadata": {
        "colab": {
          "base_uri": "https://localhost:8080/"
        },
        "id": "_I_TSC-mjJ4i",
        "outputId": "2f1691af-d066-4fb8-a6f3-80cb316340dc"
      },
      "execution_count": 45,
      "outputs": [
        {
          "output_type": "stream",
          "name": "stdout",
          "text": [
            "Давние клиенты женщины\n",
            "Дополнительных покупок: отрицательно\n",
            "Доход от покупок: отрицательно\n",
            "Расходы: отрицательно\n",
            "Прибыль: отрицательно\n"
          ]
        }
      ]
    },
    {
      "cell_type": "markdown",
      "source": [
        "######*до/после 23(давние/недавние)*"
      ],
      "metadata": {
        "id": "cxuIsC_Njfsj"
      }
    },
    {
      "cell_type": "code",
      "source": [
        "print('Недавние клиенты младше 23')\n",
        "print(f'Дополнительных покупок: { int((0.0365- 0.03224)*len(not_participant))}')\n",
        "print(f'Доход от покупок: { int((0.0365- 0.03224)*len(not_participant))*3000}')\n",
        "print(f'Расходы: { int((0.0365- 0.03224)*len(not_participant))*80}')\n",
        "print(f'Прибыль: { int((0.0365- 0.03224)*len(not_participant))*(3000-80)}')"
      ],
      "metadata": {
        "colab": {
          "base_uri": "https://localhost:8080/"
        },
        "id": "_pntlLFhjmwc",
        "outputId": "f09de2d1-a188-4109-b530-ad86f99e18e6"
      },
      "execution_count": 47,
      "outputs": [
        {
          "output_type": "stream",
          "name": "stdout",
          "text": [
            "Недавние клиенты младше 23\n",
            "Дополнительных покупок: 81\n",
            "Доход от покупок: 243000\n",
            "Расходы: 6480\n",
            "Прибыль: 236520\n"
          ]
        }
      ]
    },
    {
      "cell_type": "code",
      "source": [
        "print('Недавние клиенты старше 23')\n",
        "print(f'Дополнительных покупок: отрицательно')\n",
        "print(f'Доход от покупок: отрицательно')\n",
        "print(f'Расходы: отрицательно')\n",
        "print(f'Прибыль: отрицательно')"
      ],
      "metadata": {
        "colab": {
          "base_uri": "https://localhost:8080/"
        },
        "id": "4vMfoPcxkJQ2",
        "outputId": "e3e8de3e-cfca-44f5-d7e8-d0b95188a188"
      },
      "execution_count": 48,
      "outputs": [
        {
          "output_type": "stream",
          "name": "stdout",
          "text": [
            "Недавние клиенты старше 23\n",
            "Дополнительных покупок: отрицательно\n",
            "Доход от покупок: отрицательно\n",
            "Расходы: отрицательно\n",
            "Прибыль: отрицательно\n"
          ]
        }
      ]
    },
    {
      "cell_type": "code",
      "source": [
        "print('Давние клиенты младше 23')\n",
        "print(f'Дополнительных покупок: { int((0.20714-0.2027)*len(not_participant))}')\n",
        "print(f'Доход от покупок: { int((0.20714-0.2027)*len(not_participant))*3000}')\n",
        "print(f'Расходы: { int((0.20714-0.2027)*len(not_participant))*80}')\n",
        "print(f'Прибыль: { int((0.20714-0.2027)*len(not_participant))*(3000-80)}')"
      ],
      "metadata": {
        "colab": {
          "base_uri": "https://localhost:8080/"
        },
        "id": "kCEB8-P1k4lQ",
        "outputId": "65327444-ff34-4bbb-dbe7-b1bc80e49c00"
      },
      "execution_count": 80,
      "outputs": [
        {
          "output_type": "stream",
          "name": "stdout",
          "text": [
            "Давние клиенты младше 23\n",
            "Дополнительных покупок: 85\n",
            "Доход от покупок: 255000\n",
            "Расходы: 6800\n",
            "Прибыль: 248200\n"
          ]
        }
      ]
    },
    {
      "cell_type": "code",
      "source": [
        "print('Давние клиенты старше 23')\n",
        "print(f'Дополнительных покупок: отрицательно')\n",
        "print(f'Доход от покупок: отрицательно')\n",
        "print(f'Расходы: отрицательно')\n",
        "print(f'Прибыль: отрицательно')"
      ],
      "metadata": {
        "colab": {
          "base_uri": "https://localhost:8080/"
        },
        "id": "UAMxCOW4lMhh",
        "outputId": "99f97edf-de6b-42dd-a5c2-772435b54c38"
      },
      "execution_count": 50,
      "outputs": [
        {
          "output_type": "stream",
          "name": "stdout",
          "text": [
            "Давние клиенты старше 23\n",
            "Дополнительных покупок: отрицательно\n",
            "Доход от покупок: отрицательно\n",
            "Расходы: отрицательно\n",
            "Прибыль: отрицательно\n"
          ]
        }
      ]
    }
  ]
}